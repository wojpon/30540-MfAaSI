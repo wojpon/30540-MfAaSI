{
 "cells": [
  {
   "cell_type": "code",
   "execution_count": 1,
   "metadata": {},
   "outputs": [],
   "source": [
    "import cv2\n",
    "import pandas as pd\n",
    "import numpy as np\n",
    "from skimage import io\n",
    "from shapely.geometry import Point, Polygon"
   ]
  },
  {
   "cell_type": "code",
   "execution_count": 2,
   "metadata": {},
   "outputs": [],
   "source": [
    "IMG_PATH = \"data/yukon.tif\""
   ]
  },
  {
   "cell_type": "code",
   "execution_count": 3,
   "metadata": {},
   "outputs": [],
   "source": [
    "# def convert_tif_to_png(input_path, output_path):\n",
    "\n",
    "#         # Open the TIFF image using rasterio\n",
    "#         with rasterio.open(input_path) as src:\n",
    "#             # Read the image data (assuming it's in the form of a numpy array)\n",
    "#             image_data = src.read()\n",
    "\n",
    "#         # Extract the individual channels (B, G, R, NIR)\n",
    "#         b, g, r, nir, sw1, sw2 = image_data\n",
    "\n",
    "#         b = np.clip(b * 255.0, 0, 255).astype(np.uint8)\n",
    "#         g = np.clip(g * 255.0, 0, 255).astype(np.uint8)\n",
    "#         r = np.clip(r * 255.0, 0, 255).astype(np.uint8)\n",
    "\n",
    "#         # Create an RGB image by merging the channels (discard NIR)\n",
    "#         rgb_image_data = np.stack([r, g, b], axis=-1)\n",
    "\n",
    "#         # Create a Pillow Image from the RGB data\n",
    "#         rgb_image = Image.fromarray(rgb_image_data, 'RGB')\n",
    "\n",
    "#         # Save the result as a PNG image\n",
    "#         rgb_image.save(output_path, format='PNG')\n",
    "#         print(f\"Conversion successful. Image saved to {output_path}\")\n",
    "\n",
    "# # Get input and output paths from command-line arguments\n",
    "# input_tif_path = \"data/yukon.tif\"\n",
    "# output_png_path = \"img_rgb.png\"\n",
    "\n",
    "# convert_tif_to_png(input_tif_path, output_png_path)\n"
   ]
  },
  {
   "cell_type": "code",
   "execution_count": 4,
   "metadata": {},
   "outputs": [],
   "source": [
    "IMG_RGB_PATH = \"img_rgb.png\""
   ]
  },
  {
   "cell_type": "code",
   "execution_count": 5,
   "metadata": {},
   "outputs": [
    {
     "name": "stdout",
     "output_type": "stream",
     "text": [
      "Coordinates of the marked points:\n",
      "Point 1: (375, 222)\n",
      "Point 2: (417, 272)\n",
      "Point 3: (463, 247)\n",
      "Point 4: (414, 204)\n"
     ]
    }
   ],
   "source": [
    "# Global variable to store marked points\n",
    "marked_points = []\n",
    "\n",
    "def mark_four_points(image_path):\n",
    "    # Load the image\n",
    "    image = cv2.imread(image_path)\n",
    "\n",
    "    # Check if the image is loaded successfully\n",
    "    if image is None:\n",
    "        print(\"Error: Unable to load the image.\")\n",
    "        return\n",
    "\n",
    "    # Create a window and set the callback function for mouse events\n",
    "    cv2.namedWindow('Mark Four Points')\n",
    "    cv2.setMouseCallback('Mark Four Points', mark_point_callback)\n",
    "\n",
    "    # Create a copy of the original image to draw on\n",
    "    display_image = image.copy()\n",
    "\n",
    "    while True:\n",
    "        # Display the image\n",
    "        for point in marked_points:\n",
    "            cv2.circle(display_image, point, 5, (0, 255, 0), -1)\n",
    "\n",
    "        cv2.imshow('Mark Four Points', display_image)\n",
    "\n",
    "        # Wait for a key event and check if 'ESC' is pressed\n",
    "        key = cv2.waitKey(1) & 0xFF\n",
    "        if key == 27:\n",
    "            break\n",
    "\n",
    "    # Close the window\n",
    "    cv2.destroyAllWindows()\n",
    "\n",
    "    return marked_points\n",
    "\n",
    "def mark_point_callback(event, x, y, flags, param):\n",
    "    global marked_points\n",
    "    if event == cv2.EVENT_LBUTTONDOWN:\n",
    "        marked_points.append((x, y))\n",
    "\n",
    "if __name__ == \"__main__\":\n",
    "    # Specify the path to your image\n",
    "    image_path = IMG_RGB_PATH\n",
    "\n",
    "    # Call the function to mark four points on the image\n",
    "    marked_points = mark_four_points(image_path)\n",
    "\n",
    "    # Print the coordinates of the marked points\n",
    "    print(\"Coordinates of the marked points:\")\n",
    "    for i, point in enumerate(marked_points):\n",
    "        print(f\"Point {i + 1}: {point}\")\n"
   ]
  },
  {
   "cell_type": "code",
   "execution_count": 6,
   "metadata": {},
   "outputs": [
    {
     "name": "stdout",
     "output_type": "stream",
     "text": [
      "Extracted cells inside the polygon: 2952\n"
     ]
    }
   ],
   "source": [
    "def is_point_inside_polygon(point, polygon):\n",
    "    \"\"\"\n",
    "    Check if a point is inside a polygon.\n",
    "    \"\"\"\n",
    "    return Point(point).within(polygon)\n",
    "\n",
    "def extract_cells_inside_polygon(array, polygon_vertices):\n",
    "    \"\"\"\n",
    "    Extract cells from a 2D array that lie inside the given polygon.\n",
    "    \"\"\"\n",
    "\n",
    "    w, h, ch = array.shape\n",
    "    polygon = Polygon(polygon_vertices)\n",
    "    extracted_cells = []\n",
    "\n",
    "    # Iterate through array cells\n",
    "    for i in range(w):\n",
    "        for j in range(h):\n",
    "            cell_coords = (i, j)\n",
    "\n",
    "            # Check if the cell is inside the polygon\n",
    "            if is_point_inside_polygon(cell_coords, polygon):\n",
    "                extracted_cells.append(array[i, j, :])\n",
    "\n",
    "    return extracted_cells\n",
    "\n",
    "# Example usage\n",
    "array  = io.imread(IMG_PATH)\n",
    "polygon_vertices = marked_points\n",
    "\n",
    "result = extract_cells_inside_polygon(array, polygon_vertices)\n",
    "print(\"Extracted cells inside the polygon:\", len(result))"
   ]
  },
  {
   "cell_type": "code",
   "execution_count": 7,
   "metadata": {},
   "outputs": [],
   "source": [
    "band_names = [\"Red\", 'Green', 'Blue', 'NIR', \"SWIR_1\", \"SWIR_2\"]"
   ]
  },
  {
   "cell_type": "code",
   "execution_count": 8,
   "metadata": {},
   "outputs": [],
   "source": [
    "pd.DataFrame(result, columns=band_names).to_csv(\"land_test.csv\")"
   ]
  },
  {
   "cell_type": "code",
   "execution_count": null,
   "metadata": {},
   "outputs": [],
   "source": []
  }
 ],
 "metadata": {
  "kernelspec": {
   "display_name": "mfaasi",
   "language": "python",
   "name": "python3"
  },
  "language_info": {
   "codemirror_mode": {
    "name": "ipython",
    "version": 3
   },
   "file_extension": ".py",
   "mimetype": "text/x-python",
   "name": "python",
   "nbconvert_exporter": "python",
   "pygments_lexer": "ipython3",
   "version": "3.11.4"
  }
 },
 "nbformat": 4,
 "nbformat_minor": 2
}
